{
 "cells": [
  {
   "cell_type": "code",
   "execution_count": 3,
   "metadata": {},
   "outputs": [],
   "source": [
    "import pickle\n",
    "from sklearn.feature_extraction.text import TfidfVectorizer, CountVectorizer\n",
    "from sklearn.linear_model import Ridge, Lasso\n",
    "from sklearn.pipeline import Pipeline, FeatureUnion\n",
    "from sklearn.base import TransformerMixin, BaseEstimator\n",
    "import pandas as pd\n",
    "import numpy as np\n",
    "\n",
    "class DataCleaner_v0(BaseEstimator, TransformerMixin):\n",
    "    def __init__(self): # no *args and **kwargs\n",
    "        super().__init__()\n",
    "    \n",
    "    def fit(self, X, y=None):\n",
    "        return self  # nothing else to do\n",
    "    \n",
    "    def transform(self, X, y=None):   \n",
    "\n",
    "        # Clean some punctutations\n",
    "        data_temp=X.copy()\n",
    "        data_temp = data_temp.str.replace('\\n', ' \\n ')\n",
    "        # Remove ip address\n",
    "        data_temp =    data_temp.str.replace(r'(([0-9]+\\.){2,}[0-9]+)',' ')\n",
    "        \n",
    "        data_temp = data_temp.str.replace(r'([a-zA-Z]+)([/!?.])([a-zA-Z]+)',r'\\1 \\2 \\3')\n",
    "        # Replace repeating characters more than 3 times to length of 3\n",
    "        data_temp= data_temp.str.replace(r'([*!?\\'])\\1\\1{2,}',r'\\1\\1\\1')\n",
    "        # patterns with repeating characters \n",
    "        data_temp = data_temp.str.replace(r'([a-zA-Z])\\1{2,}\\b',r'\\1\\1')\n",
    "        data_temp =data_temp.str.replace(r'([a-zA-Z])\\1\\1{2,}\\B',r'\\1\\1\\1')\n",
    "        data_temp = data_temp.str.replace(r'[ ]{2,}',' ').str.strip()   \n",
    "        # Add space around repeating characters\n",
    "        data_temp =data_temp.str.replace(r'([*!?\\']+)',r' \\1 ')     \n",
    "        return data_temp\n",
    "\n",
    "\n",
    "\n",
    "model_path='./web/0.pkl'\n",
    "with open(model_path,'rb') as fr:\n",
    "    pipeline = pickle.load(fr)  \n",
    "\n",
    "# while 1:\n",
    "#     comment=input(\"comment:\")   \n",
    "#     score=pipeline.predict(pd.Series([comment]))\n",
    "#     print(score)"
   ]
  },
  {
   "cell_type": "code",
   "execution_count": 4,
   "metadata": {},
   "outputs": [],
   "source": [
    "\n",
    "df_rate_score=pd.read_csv(\"../input/jigsaw-toxic-severity-rating/comments_to_score.csv\")\n",
    "df_rate_sub=pd.read_csv(\"../input/jigsaw-toxic-severity-rating/sample_submission.csv\")\n",
    "df_rate_val=pd.read_csv(\"../input/jigsaw-toxic-severity-rating/validation_data.csv\")"
   ]
  },
  {
   "cell_type": "code",
   "execution_count": 5,
   "metadata": {},
   "outputs": [
    {
     "name": "stderr",
     "output_type": "stream",
     "text": [
      "<ipython-input-3-26457e59b9b6>:22: FutureWarning: The default value of regex will change from True to False in a future version.\n",
      "  data_temp =    data_temp.str.replace(r'(([0-9]+\\.){2,}[0-9]+)',' ')\n",
      "<ipython-input-3-26457e59b9b6>:24: FutureWarning: The default value of regex will change from True to False in a future version.\n",
      "  data_temp = data_temp.str.replace(r'([a-zA-Z]+)([/!?.])([a-zA-Z]+)',r'\\1 \\2 \\3')\n",
      "<ipython-input-3-26457e59b9b6>:26: FutureWarning: The default value of regex will change from True to False in a future version.\n",
      "  data_temp= data_temp.str.replace(r'([*!?\\'])\\1\\1{2,}',r'\\1\\1\\1')\n",
      "<ipython-input-3-26457e59b9b6>:28: FutureWarning: The default value of regex will change from True to False in a future version.\n",
      "  data_temp = data_temp.str.replace(r'([a-zA-Z])\\1{2,}\\b',r'\\1\\1')\n",
      "<ipython-input-3-26457e59b9b6>:29: FutureWarning: The default value of regex will change from True to False in a future version.\n",
      "  data_temp =data_temp.str.replace(r'([a-zA-Z])\\1\\1{2,}\\B',r'\\1\\1\\1')\n",
      "<ipython-input-3-26457e59b9b6>:30: FutureWarning: The default value of regex will change from True to False in a future version.\n",
      "  data_temp = data_temp.str.replace(r'[ ]{2,}',' ').str.strip()\n",
      "<ipython-input-3-26457e59b9b6>:32: FutureWarning: The default value of regex will change from True to False in a future version.\n",
      "  data_temp =data_temp.str.replace(r'([*!?\\']+)',r' \\1 ')\n"
     ]
    },
    {
     "name": "stdout",
     "output_type": "stream",
     "text": [
      "Validation Accuracy is 0.6913\n"
     ]
    }
   ],
   "source": [
    "fld=0\n",
    "n_folds=1\n",
    "\n",
    "val_preds_arr1_tmp = np.zeros((df_rate_val.shape[0], n_folds))\n",
    "val_preds_arr2_tmp = np.zeros((df_rate_val.shape[0], n_folds))\n",
    "\n",
    "\n",
    "val_preds_arr1_tmp[:,fld] = pipeline.predict(df_rate_val['less_toxic'])\n",
    "val_preds_arr2_tmp[:,fld] = pipeline.predict(df_rate_val['more_toxic'])\n",
    "\n",
    "# print(\"\\npredict test data \")\n",
    "# test_preds_arr_tmp[:,fld] = pipeline.predict(clean_v0(df_rate_sub,'text')['text'])\n",
    "\n",
    "p1 = val_preds_arr1_tmp.mean(axis=1)\n",
    "p2 = val_preds_arr2_tmp.mean(axis=1)\n",
    "\n",
    "\n",
    "val_score=np.round((p1 < p2).mean(),4)\n",
    "print(f'Validation Accuracy is {val_score}')"
   ]
  }
 ],
 "metadata": {
  "interpreter": {
   "hash": "21f0189580c05f8a7b7c3958b21136d510c5f4d8cb9167799430834cfbfd6059"
  },
  "kernelspec": {
   "display_name": "Python 3.8.8 64-bit ('base': conda)",
   "language": "python",
   "name": "python3"
  },
  "language_info": {
   "codemirror_mode": {
    "name": "ipython",
    "version": 3
   },
   "file_extension": ".py",
   "mimetype": "text/x-python",
   "name": "python",
   "nbconvert_exporter": "python",
   "pygments_lexer": "ipython3",
   "version": "3.8.8"
  },
  "orig_nbformat": 4
 },
 "nbformat": 4,
 "nbformat_minor": 2
}
