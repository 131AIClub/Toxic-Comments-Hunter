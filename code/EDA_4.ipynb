{
 "cells": [
  {
   "cell_type": "code",
   "execution_count": 1,
   "metadata": {},
   "outputs": [],
   "source": [
    "#import required packages\n",
    "#basics\n",
    "import pandas as pd \n",
    "import numpy as np\n",
    "\n",
    "#misc\n",
    "import gc\n",
    "import time\n",
    "import warnings\n",
    "\n",
    "#stats\n",
    "# from scipy.misc import imread\n",
    "from scipy import sparse\n",
    "import scipy.stats as ss\n",
    "\n",
    "#viz\n",
    "import matplotlib.pyplot as plt\n",
    "import matplotlib.gridspec as gridspec \n",
    "import seaborn as sns\n",
    "from wordcloud import WordCloud ,STOPWORDS\n",
    "from PIL import Image\n",
    "import matplotlib_venn as venn\n",
    "\n",
    "#nlp\n",
    "import string\n",
    "import re    #for regex\n",
    "import nltk\n",
    "from nltk.corpus import stopwords\n",
    "# import spacy\n",
    "from nltk import pos_tag\n",
    "from nltk.stem.wordnet import WordNetLemmatizer \n",
    "from nltk.tokenize import word_tokenize\n",
    "# Tweet tokenizer does not split at apostophes which is what we want\n",
    "from nltk.tokenize import TweetTokenizer  "
   ]
  },
  {
   "cell_type": "code",
   "execution_count": 3,
   "metadata": {},
   "outputs": [
    {
     "name": "stdout",
     "output_type": "stream",
     "text": [
      "df_rate_score.shape: (7537, 2)\n",
      "df_rate_sub.shape: (7537, 2)\n",
      "df_rate_val.shape: (30108, 3)\n",
      "len(set_score):  7537\n",
      "len(set_val_less):  11532\n",
      "len(set_val_more):  11678\n",
      "len(set_val):  14251\n",
      "需要打分的和验证的文字的集合相交： 7537\n"
     ]
    }
   ],
   "source": [
    "# severity-rating dataset\n",
    "\n",
    "df_rate_score=pd.read_csv(\"../input/jigsaw-toxic-severity-rating/comments_to_score.csv\")\n",
    "df_rate_sub=pd.read_csv(\"../input/jigsaw-toxic-severity-rating/sample_submission.csv\")\n",
    "df_rate_val=pd.read_csv(\"../input/jigsaw-toxic-severity-rating/validation_data.csv\")\n",
    "\n",
    "print('df_rate_score.shape:' ,df_rate_score.shape)\n",
    "print('df_rate_sub.shape:' ,df_rate_sub.shape)\n",
    "print('df_rate_val.shape:' ,df_rate_val.shape)\n",
    "\n",
    "#This is what the description says \"we will be asking you to score a set of about fourteen thousand comments\". \n",
    "\n",
    "set_score=set(df_rate_score.text)\n",
    "set_val_less=set(df_rate_val.less_toxic)\n",
    "set_val_more=set(df_rate_val.more_toxic) \n",
    "set_val=set_val_more | set_val_less\n",
    "\n",
    "print(\"len(set_score): \",len(set_score))\n",
    "print(\"len(set_val_less): \",len(set_val_less))\n",
    "print(\"len(set_val_more): \",len(set_val_more))\n",
    "print(\"len(set_val): \",len(set_val))\n",
    "\n",
    "print(\"需要打分的和验证的文字的集合相交：\",len(set_score & set_val))"
   ]
  },
  {
   "cell_type": "code",
   "execution_count": null,
   "metadata": {},
   "outputs": [],
   "source": [
    "# severity-rating dataset\n",
    "df_classfi_train=pd.read_csv(\"../input/jigsaw-toxic-comment-classification-challenge/train.csv\")\n",
    "df_classfi_test=pd.read_csv(\"../input/jigsaw-toxic-comment-classification-challenge/test.csv\")"
   ]
  },
  {
   "cell_type": "code",
   "execution_count": null,
   "metadata": {},
   "outputs": [],
   "source": []
  }
 ],
 "metadata": {
  "interpreter": {
   "hash": "21f0189580c05f8a7b7c3958b21136d510c5f4d8cb9167799430834cfbfd6059"
  },
  "kernelspec": {
   "display_name": "Python 3.8.8 64-bit ('base': conda)",
   "language": "python",
   "name": "python3"
  },
  "language_info": {
   "codemirror_mode": {
    "name": "ipython",
    "version": 3
   },
   "file_extension": ".py",
   "mimetype": "text/x-python",
   "name": "python",
   "nbconvert_exporter": "python",
   "pygments_lexer": "ipython3",
   "version": "3.8.8"
  },
  "orig_nbformat": 4
 },
 "nbformat": 4,
 "nbformat_minor": 2
}
