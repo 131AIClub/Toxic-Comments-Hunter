{
 "cells": [
  {
   "cell_type": "code",
   "execution_count": 2,
   "metadata": {},
   "outputs": [],
   "source": [
    "import pandas as pd\n"
   ]
  },
  {
   "cell_type": "code",
   "execution_count": 32,
   "metadata": {},
   "outputs": [],
   "source": [
    "# method 1\n",
    "record_data=pd.read_csv('./record.csv')\n",
    "keycolumns=['data_name','clean_name','idf_name','regression_name','val_score']\n",
    "table_data=record_data[keycolumns]\n",
    "table_data.set_index([\"clean_name\",'idf_name','data_name','regression_name'], inplace=True)\n",
    "table_data=table_data.unstack(['data_name','regression_name'])\n",
    "table_data.to_csv('./table_data.csv')"
   ]
  },
  {
   "cell_type": "code",
   "execution_count": null,
   "metadata": {},
   "outputs": [],
   "source": [
    "# method 2\n",
    "record_data=pd.read_csv('./record.csv')\n",
    "keycolumns=['data_name','clean_name','idf_name','regression_name','val_score']\n",
    "table_data=record_data[keycolumns]\n",
    "table_data.set_index([\"clean_name\",'idf_name','data_name','regression_name'], inplace=True)\n",
    "table_data=table_data.unstack(['data_name','clean_name'])\n",
    "table_data.to_csv('./table_data2.csv')"
   ]
  }
 ],
 "metadata": {
  "interpreter": {
   "hash": "21f0189580c05f8a7b7c3958b21136d510c5f4d8cb9167799430834cfbfd6059"
  },
  "kernelspec": {
   "display_name": "Python 3.8.8 64-bit ('base': conda)",
   "language": "python",
   "name": "python3"
  },
  "language_info": {
   "codemirror_mode": {
    "name": "ipython",
    "version": 3
   },
   "file_extension": ".py",
   "mimetype": "text/x-python",
   "name": "python",
   "nbconvert_exporter": "python",
   "pygments_lexer": "ipython3",
   "version": "3.8.8"
  },
  "orig_nbformat": 4
 },
 "nbformat": 4,
 "nbformat_minor": 2
}
