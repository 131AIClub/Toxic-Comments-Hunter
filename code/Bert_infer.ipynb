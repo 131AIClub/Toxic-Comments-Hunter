{
 "cells": [
  {
   "cell_type": "markdown",
   "id": "1ccec9de",
   "metadata": {
    "papermill": {
     "duration": 0.022787,
     "end_time": "2021-12-06T16:06:36.172229",
     "exception": false,
     "start_time": "2021-12-06T16:06:36.149442",
     "status": "completed"
    },
    "tags": []
   },
   "source": [
    "# Imports"
   ]
  },
  {
   "cell_type": "code",
   "execution_count": 2,
   "id": "a4dbcd06",
   "metadata": {
    "execution": {
     "iopub.execute_input": "2021-12-06T16:06:36.214472Z",
     "iopub.status.busy": "2021-12-06T16:06:36.213929Z",
     "iopub.status.idle": "2021-12-06T16:06:43.338539Z",
     "shell.execute_reply": "2021-12-06T16:06:43.337849Z",
     "shell.execute_reply.started": "2021-12-06T16:05:03.787619Z"
    },
    "papermill": {
     "duration": 7.150851,
     "end_time": "2021-12-06T16:06:43.338736",
     "exception": false,
     "start_time": "2021-12-06T16:06:36.187885",
     "status": "completed"
    },
    "tags": []
   },
   "outputs": [
    {
     "name": "stdout",
     "output_type": "stream",
     "text": [
      "Using device: cuda\n"
     ]
    }
   ],
   "source": [
    "# Asthetics\n",
    "import warnings\n",
    "import sklearn.exceptions\n",
    "warnings.filterwarnings('ignore', category=DeprecationWarning)\n",
    "warnings.filterwarnings('ignore', category=UserWarning)\n",
    "warnings.filterwarnings('ignore', category=FutureWarning)\n",
    "warnings.filterwarnings(\"ignore\", category=sklearn.exceptions.UndefinedMetricWarning)\n",
    "\n",
    "# General\n",
    "from tqdm.auto import tqdm\n",
    "from bs4 import BeautifulSoup\n",
    "from collections import defaultdict\n",
    "import pandas as pd\n",
    "import numpy as np\n",
    "import os\n",
    "import re\n",
    "import random\n",
    "import gc\n",
    "import glob\n",
    "pd.set_option('display.max_columns', None)\n",
    "np.seterr(divide='ignore', invalid='ignore')\n",
    "gc.enable()\n",
    "\n",
    "# Deep Learning\n",
    "import torch\n",
    "import torch.nn as nn\n",
    "import torch.nn.functional as F\n",
    "import torch.optim as optim\n",
    "from torch.utils.data import Dataset, DataLoader\n",
    "from torch.optim.lr_scheduler import OneCycleLR\n",
    "# NLP\n",
    "from transformers import AutoTokenizer, AutoModel\n",
    "\n",
    "# Random Seed Initialize\n",
    "RANDOM_SEED = 42\n",
    "\n",
    "def seed_everything(seed=RANDOM_SEED):\n",
    "    os.environ['PYTHONHASHSEED'] = str(seed)\n",
    "    np.random.seed(seed)\n",
    "    random.seed(seed)\n",
    "    torch.manual_seed(seed)\n",
    "    torch.cuda.manual_seed(seed)\n",
    "    torch.backends.cudnn.deterministic = True\n",
    "    torch.backends.cudnn.benchmark = True\n",
    "    \n",
    "seed_everything()\n",
    "\n",
    "# Device Optimization\n",
    "if torch.cuda.is_available():\n",
    "    device = torch.device('cuda')\n",
    "else:\n",
    "    device = torch.device('cpu')\n",
    "    \n",
    "print(f'Using device: {device}')"
   ]
  },
  {
   "cell_type": "code",
   "execution_count": 3,
   "id": "2d717d34",
   "metadata": {
    "execution": {
     "iopub.execute_input": "2021-12-06T16:06:43.398666Z",
     "iopub.status.busy": "2021-12-06T16:06:43.397349Z",
     "iopub.status.idle": "2021-12-06T16:06:43.400795Z",
     "shell.execute_reply": "2021-12-06T16:06:43.397943Z",
     "shell.execute_reply.started": "2021-12-06T16:05:03.802601Z"
    },
    "papermill": {
     "duration": 0.03694,
     "end_time": "2021-12-06T16:06:43.400951",
     "exception": false,
     "start_time": "2021-12-06T16:06:43.364011",
     "status": "completed"
    },
    "tags": []
   },
   "outputs": [
    {
     "name": "stdout",
     "output_type": "stream",
     "text": [
      "Train file: ../input/jigsaw-toxic-severity-rating/comments_to_score.csv\n"
     ]
    }
   ],
   "source": [
    "data_dir = '../input/jigsaw-toxic-severity-rating'\n",
    "models_dir = '../input/roberta-test'\n",
    "test_file_path = os.path.join(data_dir, 'comments_to_score.csv')\n",
    "print(f'Train file: {test_file_path}')"
   ]
  },
  {
   "cell_type": "code",
   "execution_count": 4,
   "id": "58bbef44",
   "metadata": {
    "execution": {
     "iopub.execute_input": "2021-12-06T16:06:43.459200Z",
     "iopub.status.busy": "2021-12-06T16:06:43.458451Z",
     "iopub.status.idle": "2021-12-06T16:06:43.555886Z",
     "shell.execute_reply": "2021-12-06T16:06:43.555385Z",
     "shell.execute_reply.started": "2021-12-06T16:05:03.820594Z"
    },
    "papermill": {
     "duration": 0.128327,
     "end_time": "2021-12-06T16:06:43.556020",
     "exception": false,
     "start_time": "2021-12-06T16:06:43.427693",
     "status": "completed"
    },
    "tags": []
   },
   "outputs": [],
   "source": [
    "test_df = pd.read_csv(test_file_path)"
   ]
  },
  {
   "cell_type": "markdown",
   "id": "117cdb35",
   "metadata": {
    "papermill": {
     "duration": 0.016223,
     "end_time": "2021-12-06T16:06:43.588239",
     "exception": false,
     "start_time": "2021-12-06T16:06:43.572016",
     "status": "completed"
    },
    "tags": []
   },
   "source": [
    "# Text Cleaning"
   ]
  },
  {
   "cell_type": "code",
   "execution_count": 5,
   "id": "dd1d357b",
   "metadata": {
    "execution": {
     "iopub.execute_input": "2021-12-06T16:06:43.627252Z",
     "iopub.status.busy": "2021-12-06T16:06:43.626458Z",
     "iopub.status.idle": "2021-12-06T16:06:43.628497Z",
     "shell.execute_reply": "2021-12-06T16:06:43.628882Z",
     "shell.execute_reply.started": "2021-12-06T16:05:03.882466Z"
    },
    "papermill": {
     "duration": 0.024734,
     "end_time": "2021-12-06T16:06:43.629006",
     "exception": false,
     "start_time": "2021-12-06T16:06:43.604272",
     "status": "completed"
    },
    "tags": []
   },
   "outputs": [],
   "source": [
    "def text_cleaning(text):\n",
    "    '''\n",
    "    Cleans text into a basic form for NLP. Operations include the following:-\n",
    "    1. Remove special charecters like &, #, etc\n",
    "    2. Removes extra spaces\n",
    "    3. Removes embedded URL links\n",
    "    4. Removes HTML tags\n",
    "    5. Removes emojis\n",
    "    \n",
    "    text - Text piece to be cleaned.\n",
    "    '''\n",
    "    template = re.compile(r'https?://\\S+|www\\.\\S+') #Removes website links\n",
    "    text = template.sub(r'', text)\n",
    "    \n",
    "    soup = BeautifulSoup(text, 'lxml') #Removes HTML tags\n",
    "    only_text = soup.get_text()\n",
    "    text = only_text\n",
    "    \n",
    "    emoji_pattern = re.compile(\"[\"\n",
    "                               u\"\\U0001F600-\\U0001F64F\"  # emoticons\n",
    "                               u\"\\U0001F300-\\U0001F5FF\"  # symbols & pictographs\n",
    "                               u\"\\U0001F680-\\U0001F6FF\"  # transport & map symbols\n",
    "                               u\"\\U0001F1E0-\\U0001F1FF\"  # flags (iOS)\n",
    "                               u\"\\U00002702-\\U000027B0\"\n",
    "                               u\"\\U000024C2-\\U0001F251\"\n",
    "                               \"]+\", flags=re.UNICODE)\n",
    "    text = emoji_pattern.sub(r'', text)\n",
    "    \n",
    "    text = re.sub(r\"[^a-zA-Z\\d]\", \" \", text) #Remove special Charecters\n",
    "    text = re.sub(' +', ' ', text) #Remove Extra Spaces\n",
    "    text = text.strip() # remove spaces at the beginning and at the end of string\n",
    "\n",
    "    return text"
   ]
  },
  {
   "cell_type": "code",
   "execution_count": 6,
   "id": "4771fbe1",
   "metadata": {
    "execution": {
     "iopub.execute_input": "2021-12-06T16:06:43.670432Z",
     "iopub.status.busy": "2021-12-06T16:06:43.669688Z",
     "iopub.status.idle": "2021-12-06T16:06:46.150189Z",
     "shell.execute_reply": "2021-12-06T16:06:46.150664Z",
     "shell.execute_reply.started": "2021-12-06T16:05:03.892068Z"
    },
    "papermill": {
     "duration": 2.505615,
     "end_time": "2021-12-06T16:06:46.150827",
     "exception": false,
     "start_time": "2021-12-06T16:06:43.645212",
     "status": "completed"
    },
    "tags": []
   },
   "outputs": [
    {
     "data": {
      "application/vnd.jupyter.widget-view+json": {
       "model_id": "9a8e163bf8444a08a102df044b396e19",
       "version_major": 2,
       "version_minor": 0
      },
      "text/plain": [
       "  0%|          | 0/7537 [00:00<?, ?it/s]"
      ]
     },
     "metadata": {},
     "output_type": "display_data"
    }
   ],
   "source": [
    "tqdm.pandas()\n",
    "test_df['text'] = test_df['text'].progress_apply(text_cleaning)"
   ]
  },
  {
   "cell_type": "code",
   "execution_count": 7,
   "id": "d4a04e1c",
   "metadata": {
    "execution": {
     "iopub.execute_input": "2021-12-06T16:06:46.193191Z",
     "iopub.status.busy": "2021-12-06T16:06:46.192632Z",
     "iopub.status.idle": "2021-12-06T16:06:46.202886Z",
     "shell.execute_reply": "2021-12-06T16:06:46.203294Z",
     "shell.execute_reply.started": "2021-12-06T16:05:06.316172Z"
    },
    "papermill": {
     "duration": 0.035669,
     "end_time": "2021-12-06T16:06:46.203429",
     "exception": false,
     "start_time": "2021-12-06T16:06:46.167760",
     "status": "completed"
    },
    "tags": []
   },
   "outputs": [
    {
     "data": {
      "text/html": [
       "<div>\n",
       "<style scoped>\n",
       "    .dataframe tbody tr th:only-of-type {\n",
       "        vertical-align: middle;\n",
       "    }\n",
       "\n",
       "    .dataframe tbody tr th {\n",
       "        vertical-align: top;\n",
       "    }\n",
       "\n",
       "    .dataframe thead th {\n",
       "        text-align: right;\n",
       "    }\n",
       "</style>\n",
       "<table border=\"1\" class=\"dataframe\">\n",
       "  <thead>\n",
       "    <tr style=\"text-align: right;\">\n",
       "      <th></th>\n",
       "      <th>comment_id</th>\n",
       "      <th>text</th>\n",
       "    </tr>\n",
       "  </thead>\n",
       "  <tbody>\n",
       "    <tr>\n",
       "      <th>601</th>\n",
       "      <td>40508854</td>\n",
       "      <td>silly little boy my ass</td>\n",
       "    </tr>\n",
       "    <tr>\n",
       "      <th>2031</th>\n",
       "      <td>108591632</td>\n",
       "      <td>Is that so Than why so many people questiong y...</td>\n",
       "    </tr>\n",
       "    <tr>\n",
       "      <th>1928</th>\n",
       "      <td>101910871</td>\n",
       "      <td>Wow Thanks You are SO amazing I am in awe of y...</td>\n",
       "    </tr>\n",
       "    <tr>\n",
       "      <th>468</th>\n",
       "      <td>35445625</td>\n",
       "      <td>Send this to User Bumpusmills1 Pass this infor...</td>\n",
       "    </tr>\n",
       "    <tr>\n",
       "      <th>6351</th>\n",
       "      <td>390340674</td>\n",
       "      <td>that is your opinion And what is your proof th...</td>\n",
       "    </tr>\n",
       "    <tr>\n",
       "      <th>748</th>\n",
       "      <td>46347755</td>\n",
       "      <td>man its all about captain morgans spiced rum s...</td>\n",
       "    </tr>\n",
       "    <tr>\n",
       "      <th>5296</th>\n",
       "      <td>308431548</td>\n",
       "      <td>Important exceptions include declined unblock ...</td>\n",
       "    </tr>\n",
       "    <tr>\n",
       "      <th>1393</th>\n",
       "      <td>72839951</td>\n",
       "      <td>Like Sheen said himself on Jimmy Kimmel s show...</td>\n",
       "    </tr>\n",
       "    <tr>\n",
       "      <th>251</th>\n",
       "      <td>23525772</td>\n",
       "      <td>by the vandal Pavel Vozenilek</td>\n",
       "    </tr>\n",
       "    <tr>\n",
       "      <th>5519</th>\n",
       "      <td>323602656</td>\n",
       "      <td>Hello Nawlins Why do you like to deflower prep...</td>\n",
       "    </tr>\n",
       "  </tbody>\n",
       "</table>\n",
       "</div>"
      ],
      "text/plain": [
       "      comment_id                                               text\n",
       "601     40508854                            silly little boy my ass\n",
       "2031   108591632  Is that so Than why so many people questiong y...\n",
       "1928   101910871  Wow Thanks You are SO amazing I am in awe of y...\n",
       "468     35445625  Send this to User Bumpusmills1 Pass this infor...\n",
       "6351   390340674  that is your opinion And what is your proof th...\n",
       "748     46347755  man its all about captain morgans spiced rum s...\n",
       "5296   308431548  Important exceptions include declined unblock ...\n",
       "1393    72839951  Like Sheen said himself on Jimmy Kimmel s show...\n",
       "251     23525772                      by the vandal Pavel Vozenilek\n",
       "5519   323602656  Hello Nawlins Why do you like to deflower prep..."
      ]
     },
     "execution_count": 7,
     "metadata": {},
     "output_type": "execute_result"
    }
   ],
   "source": [
    "test_df.sample(10)"
   ]
  },
  {
   "cell_type": "markdown",
   "id": "7a01f463",
   "metadata": {
    "papermill": {
     "duration": 0.016219,
     "end_time": "2021-12-06T16:06:46.236328",
     "exception": false,
     "start_time": "2021-12-06T16:06:46.220109",
     "status": "completed"
    },
    "tags": []
   },
   "source": [
    "# CFG"
   ]
  },
  {
   "cell_type": "code",
   "execution_count": 8,
   "id": "03816c80",
   "metadata": {
    "execution": {
     "iopub.execute_input": "2021-12-06T16:06:46.273198Z",
     "iopub.status.busy": "2021-12-06T16:06:46.272513Z",
     "iopub.status.idle": "2021-12-06T16:06:46.275598Z",
     "shell.execute_reply": "2021-12-06T16:06:46.275173Z",
     "shell.execute_reply.started": "2021-12-06T16:05:06.330168Z"
    },
    "papermill": {
     "duration": 0.023053,
     "end_time": "2021-12-06T16:06:46.275747",
     "exception": false,
     "start_time": "2021-12-06T16:06:46.252694",
     "status": "completed"
    },
    "tags": []
   },
   "outputs": [],
   "source": [
    "params = {\n",
    "    'device': device,\n",
    "    'debug': False,\n",
    "    'checkpoint': '../input/roberta-base',\n",
    "    'output_logits': 768,\n",
    "    'max_len': 32,\n",
    "    'batch_size': 16,\n",
    "    'dropout': 0.2,\n",
    "    'num_workers': 2\n",
    "}"
   ]
  },
  {
   "cell_type": "code",
   "execution_count": 9,
   "id": "a96a327b",
   "metadata": {
    "execution": {
     "iopub.execute_input": "2021-12-06T16:06:46.311506Z",
     "iopub.status.busy": "2021-12-06T16:06:46.310710Z",
     "iopub.status.idle": "2021-12-06T16:06:46.314980Z",
     "shell.execute_reply": "2021-12-06T16:06:46.314521Z",
     "shell.execute_reply.started": "2021-12-06T16:05:06.336158Z"
    },
    "papermill": {
     "duration": 0.022804,
     "end_time": "2021-12-06T16:06:46.315085",
     "exception": false,
     "start_time": "2021-12-06T16:06:46.292281",
     "status": "completed"
    },
    "tags": []
   },
   "outputs": [],
   "source": [
    "if params['debug']:\n",
    "    train_df = train_df.sample(frac=0.01)\n",
    "    print('Reduced training Data Size for Debugging purposes')"
   ]
  },
  {
   "cell_type": "markdown",
   "id": "f64d3240",
   "metadata": {
    "papermill": {
     "duration": 0.016139,
     "end_time": "2021-12-06T16:06:46.347688",
     "exception": false,
     "start_time": "2021-12-06T16:06:46.331549",
     "status": "completed"
    },
    "tags": []
   },
   "source": [
    "# Dataset"
   ]
  },
  {
   "cell_type": "code",
   "execution_count": 10,
   "id": "a1d5d6d5",
   "metadata": {
    "execution": {
     "iopub.execute_input": "2021-12-06T16:06:46.388591Z",
     "iopub.status.busy": "2021-12-06T16:06:46.387798Z",
     "iopub.status.idle": "2021-12-06T16:06:46.389755Z",
     "shell.execute_reply": "2021-12-06T16:06:46.390157Z",
     "shell.execute_reply.started": "2021-12-06T16:05:06.345358Z"
    },
    "papermill": {
     "duration": 0.026219,
     "end_time": "2021-12-06T16:06:46.390275",
     "exception": false,
     "start_time": "2021-12-06T16:06:46.364056",
     "status": "completed"
    },
    "tags": []
   },
   "outputs": [],
   "source": [
    "class BERTDataset:\n",
    "    def __init__(self, text, max_len=params['max_len'], checkpoint=params['checkpoint']):\n",
    "        self.text = text\n",
    "        self.max_len = max_len\n",
    "        self.checkpoint = checkpoint\n",
    "        self.tokenizer = AutoTokenizer.from_pretrained(checkpoint)\n",
    "        self.num_examples = len(self.text)\n",
    "\n",
    "    def __len__(self):\n",
    "        return self.num_examples\n",
    "\n",
    "    def __getitem__(self, idx):\n",
    "        text = str(self.text[idx])\n",
    "\n",
    "        tokenized_text = self.tokenizer(\n",
    "            text,\n",
    "            add_special_tokens=True,\n",
    "            truncation=True,\n",
    "            padding='max_length',\n",
    "            max_length=self.max_len,\n",
    "            return_attention_mask=True,\n",
    "            return_token_type_ids=True,\n",
    "        )\n",
    "\n",
    "        ids = tokenized_text['input_ids']\n",
    "        mask = tokenized_text['attention_mask']\n",
    "        token_type_ids = tokenized_text['token_type_ids']\n",
    "\n",
    "        return {'ids': torch.tensor(ids, dtype=torch.long),\n",
    "                'mask': torch.tensor(mask, dtype=torch.long),\n",
    "                'token_type_ids': torch.tensor(token_type_ids, dtype=torch.long)}"
   ]
  },
  {
   "cell_type": "markdown",
   "id": "e9c24558",
   "metadata": {
    "papermill": {
     "duration": 0.016207,
     "end_time": "2021-12-06T16:06:46.422949",
     "exception": false,
     "start_time": "2021-12-06T16:06:46.406742",
     "status": "completed"
    },
    "tags": []
   },
   "source": [
    "# NLP Model"
   ]
  },
  {
   "cell_type": "code",
   "execution_count": 11,
   "id": "42454a1f",
   "metadata": {
    "execution": {
     "iopub.execute_input": "2021-12-06T16:06:46.463951Z",
     "iopub.status.busy": "2021-12-06T16:06:46.463194Z",
     "iopub.status.idle": "2021-12-06T16:06:46.465169Z",
     "shell.execute_reply": "2021-12-06T16:06:46.465570Z",
     "shell.execute_reply.started": "2021-12-06T16:05:06.356837Z"
    },
    "papermill": {
     "duration": 0.025989,
     "end_time": "2021-12-06T16:06:46.465711",
     "exception": false,
     "start_time": "2021-12-06T16:06:46.439722",
     "status": "completed"
    },
    "tags": []
   },
   "outputs": [],
   "source": [
    "class ToxicityModel(nn.Module):\n",
    "    def __init__(self, checkpoint=params['checkpoint'], params=params):\n",
    "        super(ToxicityModel, self).__init__()\n",
    "        self.checkpoint = checkpoint\n",
    "        self.bert = AutoModel.from_pretrained(checkpoint, return_dict=False)\n",
    "        self.layer_norm = nn.LayerNorm(params['output_logits'])\n",
    "        self.dropout = nn.Dropout(params['dropout'])\n",
    "        self.dense = nn.Sequential(\n",
    "            nn.Linear(params['output_logits'], 128),\n",
    "            nn.LeakyReLU(negative_slope=0.01),\n",
    "            nn.Dropout(params['dropout']),\n",
    "            nn.Linear(128, 1)\n",
    "        )\n",
    "\n",
    "    def forward(self, input_ids, token_type_ids, attention_mask):\n",
    "        _, pooled_output = self.bert(input_ids=input_ids, token_type_ids=token_type_ids, attention_mask=attention_mask)\n",
    "        pooled_output = self.layer_norm(pooled_output)\n",
    "        pooled_output = self.dropout(pooled_output)\n",
    "        preds = self.dense(pooled_output)\n",
    "        return preds"
   ]
  },
  {
   "cell_type": "markdown",
   "id": "f7ebc054",
   "metadata": {
    "papermill": {
     "duration": 0.016397,
     "end_time": "2021-12-06T16:06:46.498484",
     "exception": false,
     "start_time": "2021-12-06T16:06:46.482087",
     "status": "completed"
    },
    "tags": []
   },
   "source": [
    "# Prediction"
   ]
  },
  {
   "cell_type": "code",
   "execution_count": 12,
   "id": "11712311",
   "metadata": {
    "execution": {
     "iopub.execute_input": "2021-12-06T16:06:46.541121Z",
     "iopub.status.busy": "2021-12-06T16:06:46.540511Z",
     "iopub.status.idle": "2021-12-06T16:07:44.087788Z",
     "shell.execute_reply": "2021-12-06T16:07:44.088869Z",
     "shell.execute_reply.started": "2021-12-06T16:05:06.370206Z"
    },
    "papermill": {
     "duration": 57.57338,
     "end_time": "2021-12-06T16:07:44.089089",
     "exception": false,
     "start_time": "2021-12-06T16:06:46.515709",
     "status": "completed"
    },
    "tags": []
   },
   "outputs": [
    {
     "data": {
      "application/vnd.jupyter.widget-view+json": {
       "model_id": "bfef895a544145349dfb940a5774e723",
       "version_major": 2,
       "version_minor": 0
      },
      "text/plain": [
       "Predicting. :   0%|          | 0/472 [00:00<?, ?it/s]"
      ]
     },
     "metadata": {},
     "output_type": "display_data"
    },
    {
     "data": {
      "application/vnd.jupyter.widget-view+json": {
       "model_id": "a5798f690c5d4074a8fd1e99e8db6cab",
       "version_major": 2,
       "version_minor": 0
      },
      "text/plain": [
       "Predicting. :   0%|          | 0/472 [00:00<?, ?it/s]"
      ]
     },
     "metadata": {},
     "output_type": "display_data"
    }
   ],
   "source": [
    "predictions_nn = None\n",
    "for model_name in glob.glob(models_dir + '/*.pth'):\n",
    "    model = ToxicityModel()\n",
    "    model.load_state_dict(torch.load(model_name))\n",
    "    model = model.to(params['device'])\n",
    "    model.eval()\n",
    "\n",
    "    test_dataset = BERTDataset(\n",
    "        text = test_df['text'].values\n",
    "    )\n",
    "    test_loader = DataLoader(\n",
    "        test_dataset, batch_size=params['batch_size'],\n",
    "        shuffle=False, num_workers=params['num_workers'],\n",
    "        pin_memory=True\n",
    "    )\n",
    "\n",
    "    temp_preds = None\n",
    "    with torch.no_grad():\n",
    "        for batch in tqdm(test_loader, desc=f'Predicting. '):\n",
    "            ids= batch['ids'].to(device)\n",
    "            mask = batch['mask'].to(device)\n",
    "            token_type_ids = batch['token_type_ids'].to(device)\n",
    "            predictions = model(ids, token_type_ids, mask).to('cpu').numpy()\n",
    "            \n",
    "            if temp_preds is None:\n",
    "                temp_preds = predictions\n",
    "            else:\n",
    "                temp_preds = np.vstack((temp_preds, predictions))\n",
    "\n",
    "    if predictions_nn is None:\n",
    "        predictions_nn = temp_preds\n",
    "    else:\n",
    "        predictions_nn += temp_preds\n",
    "\n",
    "predictions_nn /= (len(glob.glob(models_dir + '/*.pth')))\n"
   ]
  },
  {
   "cell_type": "markdown",
   "id": "73d8ae32",
   "metadata": {
    "papermill": {
     "duration": 0.027903,
     "end_time": "2021-12-06T16:07:44.147479",
     "exception": false,
     "start_time": "2021-12-06T16:07:44.119576",
     "status": "completed"
    },
    "tags": []
   },
   "source": [
    "# Submission"
   ]
  },
  {
   "cell_type": "code",
   "execution_count": 13,
   "id": "ac1fb3b2",
   "metadata": {
    "execution": {
     "iopub.execute_input": "2021-12-06T16:07:44.199939Z",
     "iopub.status.busy": "2021-12-06T16:07:44.195069Z",
     "iopub.status.idle": "2021-12-06T16:07:44.207400Z",
     "shell.execute_reply": "2021-12-06T16:07:44.206968Z",
     "shell.execute_reply.started": "2021-12-06T16:05:55.105944Z"
    },
    "papermill": {
     "duration": 0.038086,
     "end_time": "2021-12-06T16:07:44.207517",
     "exception": false,
     "start_time": "2021-12-06T16:07:44.169431",
     "status": "completed"
    },
    "tags": []
   },
   "outputs": [],
   "source": [
    "sub_df = pd.DataFrame()\n",
    "sub_df['comment_id'] = test_df['comment_id']\n",
    "sub_df['score'] = predictions_nn\n",
    "sub_df['score'] = sub_df['score'].rank(method='first')"
   ]
  },
  {
   "cell_type": "code",
   "execution_count": 14,
   "id": "0ca105b8",
   "metadata": {
    "execution": {
     "iopub.execute_input": "2021-12-06T16:07:44.253771Z",
     "iopub.status.busy": "2021-12-06T16:07:44.253085Z",
     "iopub.status.idle": "2021-12-06T16:07:44.256230Z",
     "shell.execute_reply": "2021-12-06T16:07:44.256708Z",
     "shell.execute_reply.started": "2021-12-06T16:05:57.804995Z"
    },
    "papermill": {
     "duration": 0.031724,
     "end_time": "2021-12-06T16:07:44.256858",
     "exception": false,
     "start_time": "2021-12-06T16:07:44.225134",
     "status": "completed"
    },
    "tags": []
   },
   "outputs": [
    {
     "data": {
      "text/html": [
       "<div>\n",
       "<style scoped>\n",
       "    .dataframe tbody tr th:only-of-type {\n",
       "        vertical-align: middle;\n",
       "    }\n",
       "\n",
       "    .dataframe tbody tr th {\n",
       "        vertical-align: top;\n",
       "    }\n",
       "\n",
       "    .dataframe thead th {\n",
       "        text-align: right;\n",
       "    }\n",
       "</style>\n",
       "<table border=\"1\" class=\"dataframe\">\n",
       "  <thead>\n",
       "    <tr style=\"text-align: right;\">\n",
       "      <th></th>\n",
       "      <th>comment_id</th>\n",
       "      <th>score</th>\n",
       "    </tr>\n",
       "  </thead>\n",
       "  <tbody>\n",
       "    <tr>\n",
       "      <th>0</th>\n",
       "      <td>114890</td>\n",
       "      <td>990.0</td>\n",
       "    </tr>\n",
       "    <tr>\n",
       "      <th>1</th>\n",
       "      <td>732895</td>\n",
       "      <td>282.0</td>\n",
       "    </tr>\n",
       "    <tr>\n",
       "      <th>2</th>\n",
       "      <td>1139051</td>\n",
       "      <td>1942.0</td>\n",
       "    </tr>\n",
       "    <tr>\n",
       "      <th>3</th>\n",
       "      <td>1434512</td>\n",
       "      <td>837.0</td>\n",
       "    </tr>\n",
       "    <tr>\n",
       "      <th>4</th>\n",
       "      <td>2084821</td>\n",
       "      <td>5078.0</td>\n",
       "    </tr>\n",
       "  </tbody>\n",
       "</table>\n",
       "</div>"
      ],
      "text/plain": [
       "   comment_id   score\n",
       "0      114890   990.0\n",
       "1      732895   282.0\n",
       "2     1139051  1942.0\n",
       "3     1434512   837.0\n",
       "4     2084821  5078.0"
      ]
     },
     "execution_count": 14,
     "metadata": {},
     "output_type": "execute_result"
    }
   ],
   "source": [
    "sub_df.head()"
   ]
  },
  {
   "cell_type": "code",
   "execution_count": 15,
   "id": "6f2a13e3",
   "metadata": {
    "execution": {
     "iopub.execute_input": "2021-12-06T16:07:44.296229Z",
     "iopub.status.busy": "2021-12-06T16:07:44.295733Z",
     "iopub.status.idle": "2021-12-06T16:07:44.322830Z",
     "shell.execute_reply": "2021-12-06T16:07:44.322357Z",
     "shell.execute_reply.started": "2021-12-06T16:06:00.352642Z"
    },
    "papermill": {
     "duration": 0.04822,
     "end_time": "2021-12-06T16:07:44.322938",
     "exception": false,
     "start_time": "2021-12-06T16:07:44.274718",
     "status": "completed"
    },
    "tags": []
   },
   "outputs": [],
   "source": [
    "sub_df.to_csv('submission.csv', index=False)"
   ]
  }
 ],
 "metadata": {
  "kernelspec": {
   "display_name": "Python 3",
   "language": "python",
   "name": "python3"
  },
  "language_info": {
   "codemirror_mode": {
    "name": "ipython",
    "version": 3
   },
   "file_extension": ".py",
   "mimetype": "text/x-python",
   "name": "python",
   "nbconvert_exporter": "python",
   "pygments_lexer": "ipython3",
   "version": "3.7.10"
  },
  "papermill": {
   "default_parameters": {},
   "duration": 79.343575,
   "end_time": "2021-12-06T16:07:47.133863",
   "environment_variables": {},
   "exception": null,
   "input_path": "__notebook__.ipynb",
   "output_path": "__notebook__.ipynb",
   "parameters": {},
   "start_time": "2021-12-06T16:06:27.790288",
   "version": "2.3.3"
  },
  "widgets": {
   "application/vnd.jupyter.widget-state+json": {
    "state": {
     "0153e4e76ef447669e050ec51adb5b98": {
      "model_module": "@jupyter-widgets/controls",
      "model_module_version": "1.5.0",
      "model_name": "HTMLModel",
      "state": {
       "_dom_classes": [],
       "_model_module": "@jupyter-widgets/controls",
       "_model_module_version": "1.5.0",
       "_model_name": "HTMLModel",
       "_view_count": null,
       "_view_module": "@jupyter-widgets/controls",
       "_view_module_version": "1.5.0",
       "_view_name": "HTMLView",
       "description": "",
       "description_tooltip": null,
       "layout": "IPY_MODEL_2b5fbf87db914c0eb47c61381a337bd3",
       "placeholder": "​",
       "style": "IPY_MODEL_a030362f6e054fdab42fb17f5e5d1ec9",
       "value": "Predicting. : 100%"
      }
     },
     "05277a6a5a094cd3951b56611af5391e": {
      "model_module": "@jupyter-widgets/base",
      "model_module_version": "1.2.0",
      "model_name": "LayoutModel",
      "state": {
       "_model_module": "@jupyter-widgets/base",
       "_model_module_version": "1.2.0",
       "_model_name": "LayoutModel",
       "_view_count": null,
       "_view_module": "@jupyter-widgets/base",
       "_view_module_version": "1.2.0",
       "_view_name": "LayoutView",
       "align_content": null,
       "align_items": null,
       "align_self": null,
       "border": null,
       "bottom": null,
       "display": null,
       "flex": null,
       "flex_flow": null,
       "grid_area": null,
       "grid_auto_columns": null,
       "grid_auto_flow": null,
       "grid_auto_rows": null,
       "grid_column": null,
       "grid_gap": null,
       "grid_row": null,
       "grid_template_areas": null,
       "grid_template_columns": null,
       "grid_template_rows": null,
       "height": null,
       "justify_content": null,
       "justify_items": null,
       "left": null,
       "margin": null,
       "max_height": null,
       "max_width": null,
       "min_height": null,
       "min_width": null,
       "object_fit": null,
       "object_position": null,
       "order": null,
       "overflow": null,
       "overflow_x": null,
       "overflow_y": null,
       "padding": null,
       "right": null,
       "top": null,
       "visibility": null,
       "width": null
      }
     },
     "07d648d565e740048378f9e52caae507": {
      "model_module": "@jupyter-widgets/base",
      "model_module_version": "1.2.0",
      "model_name": "LayoutModel",
      "state": {
       "_model_module": "@jupyter-widgets/base",
       "_model_module_version": "1.2.0",
       "_model_name": "LayoutModel",
       "_view_count": null,
       "_view_module": "@jupyter-widgets/base",
       "_view_module_version": "1.2.0",
       "_view_name": "LayoutView",
       "align_content": null,
       "align_items": null,
       "align_self": null,
       "border": null,
       "bottom": null,
       "display": null,
       "flex": null,
       "flex_flow": null,
       "grid_area": null,
       "grid_auto_columns": null,
       "grid_auto_flow": null,
       "grid_auto_rows": null,
       "grid_column": null,
       "grid_gap": null,
       "grid_row": null,
       "grid_template_areas": null,
       "grid_template_columns": null,
       "grid_template_rows": null,
       "height": null,
       "justify_content": null,
       "justify_items": null,
       "left": null,
       "margin": null,
       "max_height": null,
       "max_width": null,
       "min_height": null,
       "min_width": null,
       "object_fit": null,
       "object_position": null,
       "order": null,
       "overflow": null,
       "overflow_x": null,
       "overflow_y": null,
       "padding": null,
       "right": null,
       "top": null,
       "visibility": null,
       "width": null
      }
     },
     "092e6f34a25e4e079bb3e12da332871e": {
      "model_module": "@jupyter-widgets/controls",
      "model_module_version": "1.5.0",
      "model_name": "ProgressStyleModel",
      "state": {
       "_model_module": "@jupyter-widgets/controls",
       "_model_module_version": "1.5.0",
       "_model_name": "ProgressStyleModel",
       "_view_count": null,
       "_view_module": "@jupyter-widgets/base",
       "_view_module_version": "1.2.0",
       "_view_name": "StyleView",
       "bar_color": null,
       "description_width": ""
      }
     },
     "1a4e587ef05747c2ad5885610ddc1509": {
      "model_module": "@jupyter-widgets/base",
      "model_module_version": "1.2.0",
      "model_name": "LayoutModel",
      "state": {
       "_model_module": "@jupyter-widgets/base",
       "_model_module_version": "1.2.0",
       "_model_name": "LayoutModel",
       "_view_count": null,
       "_view_module": "@jupyter-widgets/base",
       "_view_module_version": "1.2.0",
       "_view_name": "LayoutView",
       "align_content": null,
       "align_items": null,
       "align_self": null,
       "border": null,
       "bottom": null,
       "display": null,
       "flex": null,
       "flex_flow": null,
       "grid_area": null,
       "grid_auto_columns": null,
       "grid_auto_flow": null,
       "grid_auto_rows": null,
       "grid_column": null,
       "grid_gap": null,
       "grid_row": null,
       "grid_template_areas": null,
       "grid_template_columns": null,
       "grid_template_rows": null,
       "height": null,
       "justify_content": null,
       "justify_items": null,
       "left": null,
       "margin": null,
       "max_height": null,
       "max_width": null,
       "min_height": null,
       "min_width": null,
       "object_fit": null,
       "object_position": null,
       "order": null,
       "overflow": null,
       "overflow_x": null,
       "overflow_y": null,
       "padding": null,
       "right": null,
       "top": null,
       "visibility": null,
       "width": null
      }
     },
     "1e72a0f723794ce4aee84b7576d6a77f": {
      "model_module": "@jupyter-widgets/base",
      "model_module_version": "1.2.0",
      "model_name": "LayoutModel",
      "state": {
       "_model_module": "@jupyter-widgets/base",
       "_model_module_version": "1.2.0",
       "_model_name": "LayoutModel",
       "_view_count": null,
       "_view_module": "@jupyter-widgets/base",
       "_view_module_version": "1.2.0",
       "_view_name": "LayoutView",
       "align_content": null,
       "align_items": null,
       "align_self": null,
       "border": null,
       "bottom": null,
       "display": null,
       "flex": null,
       "flex_flow": null,
       "grid_area": null,
       "grid_auto_columns": null,
       "grid_auto_flow": null,
       "grid_auto_rows": null,
       "grid_column": null,
       "grid_gap": null,
       "grid_row": null,
       "grid_template_areas": null,
       "grid_template_columns": null,
       "grid_template_rows": null,
       "height": null,
       "justify_content": null,
       "justify_items": null,
       "left": null,
       "margin": null,
       "max_height": null,
       "max_width": null,
       "min_height": null,
       "min_width": null,
       "object_fit": null,
       "object_position": null,
       "order": null,
       "overflow": null,
       "overflow_x": null,
       "overflow_y": null,
       "padding": null,
       "right": null,
       "top": null,
       "visibility": null,
       "width": null
      }
     },
     "2b5fbf87db914c0eb47c61381a337bd3": {
      "model_module": "@jupyter-widgets/base",
      "model_module_version": "1.2.0",
      "model_name": "LayoutModel",
      "state": {
       "_model_module": "@jupyter-widgets/base",
       "_model_module_version": "1.2.0",
       "_model_name": "LayoutModel",
       "_view_count": null,
       "_view_module": "@jupyter-widgets/base",
       "_view_module_version": "1.2.0",
       "_view_name": "LayoutView",
       "align_content": null,
       "align_items": null,
       "align_self": null,
       "border": null,
       "bottom": null,
       "display": null,
       "flex": null,
       "flex_flow": null,
       "grid_area": null,
       "grid_auto_columns": null,
       "grid_auto_flow": null,
       "grid_auto_rows": null,
       "grid_column": null,
       "grid_gap": null,
       "grid_row": null,
       "grid_template_areas": null,
       "grid_template_columns": null,
       "grid_template_rows": null,
       "height": null,
       "justify_content": null,
       "justify_items": null,
       "left": null,
       "margin": null,
       "max_height": null,
       "max_width": null,
       "min_height": null,
       "min_width": null,
       "object_fit": null,
       "object_position": null,
       "order": null,
       "overflow": null,
       "overflow_x": null,
       "overflow_y": null,
       "padding": null,
       "right": null,
       "top": null,
       "visibility": null,
       "width": null
      }
     },
     "2caca2db74874a839c96b40628f7e399": {
      "model_module": "@jupyter-widgets/controls",
      "model_module_version": "1.5.0",
      "model_name": "DescriptionStyleModel",
      "state": {
       "_model_module": "@jupyter-widgets/controls",
       "_model_module_version": "1.5.0",
       "_model_name": "DescriptionStyleModel",
       "_view_count": null,
       "_view_module": "@jupyter-widgets/base",
       "_view_module_version": "1.2.0",
       "_view_name": "StyleView",
       "description_width": ""
      }
     },
     "347f6d24123a432ab127d97ddf768132": {
      "model_module": "@jupyter-widgets/controls",
      "model_module_version": "1.5.0",
      "model_name": "DescriptionStyleModel",
      "state": {
       "_model_module": "@jupyter-widgets/controls",
       "_model_module_version": "1.5.0",
       "_model_name": "DescriptionStyleModel",
       "_view_count": null,
       "_view_module": "@jupyter-widgets/base",
       "_view_module_version": "1.2.0",
       "_view_name": "StyleView",
       "description_width": ""
      }
     },
     "348fea61a3cb4a00971d91d7f0d15d03": {
      "model_module": "@jupyter-widgets/controls",
      "model_module_version": "1.5.0",
      "model_name": "DescriptionStyleModel",
      "state": {
       "_model_module": "@jupyter-widgets/controls",
       "_model_module_version": "1.5.0",
       "_model_name": "DescriptionStyleModel",
       "_view_count": null,
       "_view_module": "@jupyter-widgets/base",
       "_view_module_version": "1.2.0",
       "_view_name": "StyleView",
       "description_width": ""
      }
     },
     "3aa3a29592a54411ad98355b614473d8": {
      "model_module": "@jupyter-widgets/base",
      "model_module_version": "1.2.0",
      "model_name": "LayoutModel",
      "state": {
       "_model_module": "@jupyter-widgets/base",
       "_model_module_version": "1.2.0",
       "_model_name": "LayoutModel",
       "_view_count": null,
       "_view_module": "@jupyter-widgets/base",
       "_view_module_version": "1.2.0",
       "_view_name": "LayoutView",
       "align_content": null,
       "align_items": null,
       "align_self": null,
       "border": null,
       "bottom": null,
       "display": null,
       "flex": null,
       "flex_flow": null,
       "grid_area": null,
       "grid_auto_columns": null,
       "grid_auto_flow": null,
       "grid_auto_rows": null,
       "grid_column": null,
       "grid_gap": null,
       "grid_row": null,
       "grid_template_areas": null,
       "grid_template_columns": null,
       "grid_template_rows": null,
       "height": null,
       "justify_content": null,
       "justify_items": null,
       "left": null,
       "margin": null,
       "max_height": null,
       "max_width": null,
       "min_height": null,
       "min_width": null,
       "object_fit": null,
       "object_position": null,
       "order": null,
       "overflow": null,
       "overflow_x": null,
       "overflow_y": null,
       "padding": null,
       "right": null,
       "top": null,
       "visibility": null,
       "width": null
      }
     },
     "4627cebfea7542d297137b6b18d7fb1a": {
      "model_module": "@jupyter-widgets/controls",
      "model_module_version": "1.5.0",
      "model_name": "ProgressStyleModel",
      "state": {
       "_model_module": "@jupyter-widgets/controls",
       "_model_module_version": "1.5.0",
       "_model_name": "ProgressStyleModel",
       "_view_count": null,
       "_view_module": "@jupyter-widgets/base",
       "_view_module_version": "1.2.0",
       "_view_name": "StyleView",
       "bar_color": null,
       "description_width": ""
      }
     },
     "4b0848d3411c45279a2091a4e9c3d322": {
      "model_module": "@jupyter-widgets/controls",
      "model_module_version": "1.5.0",
      "model_name": "DescriptionStyleModel",
      "state": {
       "_model_module": "@jupyter-widgets/controls",
       "_model_module_version": "1.5.0",
       "_model_name": "DescriptionStyleModel",
       "_view_count": null,
       "_view_module": "@jupyter-widgets/base",
       "_view_module_version": "1.2.0",
       "_view_name": "StyleView",
       "description_width": ""
      }
     },
     "502f48f33b28485ebff502d488239517": {
      "model_module": "@jupyter-widgets/controls",
      "model_module_version": "1.5.0",
      "model_name": "DescriptionStyleModel",
      "state": {
       "_model_module": "@jupyter-widgets/controls",
       "_model_module_version": "1.5.0",
       "_model_name": "DescriptionStyleModel",
       "_view_count": null,
       "_view_module": "@jupyter-widgets/base",
       "_view_module_version": "1.2.0",
       "_view_name": "StyleView",
       "description_width": ""
      }
     },
     "5c1aec7b42594115bee973a089e7f172": {
      "model_module": "@jupyter-widgets/controls",
      "model_module_version": "1.5.0",
      "model_name": "HTMLModel",
      "state": {
       "_dom_classes": [],
       "_model_module": "@jupyter-widgets/controls",
       "_model_module_version": "1.5.0",
       "_model_name": "HTMLModel",
       "_view_count": null,
       "_view_module": "@jupyter-widgets/controls",
       "_view_module_version": "1.5.0",
       "_view_name": "HTMLView",
       "description": "",
       "description_tooltip": null,
       "layout": "IPY_MODEL_05277a6a5a094cd3951b56611af5391e",
       "placeholder": "​",
       "style": "IPY_MODEL_347f6d24123a432ab127d97ddf768132",
       "value": " 472/472 [00:09&lt;00:00, 41.82it/s]"
      }
     },
     "637cab0a17fd4da2976eaaf801d40192": {
      "model_module": "@jupyter-widgets/controls",
      "model_module_version": "1.5.0",
      "model_name": "FloatProgressModel",
      "state": {
       "_dom_classes": [],
       "_model_module": "@jupyter-widgets/controls",
       "_model_module_version": "1.5.0",
       "_model_name": "FloatProgressModel",
       "_view_count": null,
       "_view_module": "@jupyter-widgets/controls",
       "_view_module_version": "1.5.0",
       "_view_name": "ProgressView",
       "bar_style": "success",
       "description": "",
       "description_tooltip": null,
       "layout": "IPY_MODEL_07d648d565e740048378f9e52caae507",
       "max": 7537,
       "min": 0,
       "orientation": "horizontal",
       "style": "IPY_MODEL_4627cebfea7542d297137b6b18d7fb1a",
       "value": 7537
      }
     },
     "8026638169b24a07a648c11fe14a2e3b": {
      "model_module": "@jupyter-widgets/base",
      "model_module_version": "1.2.0",
      "model_name": "LayoutModel",
      "state": {
       "_model_module": "@jupyter-widgets/base",
       "_model_module_version": "1.2.0",
       "_model_name": "LayoutModel",
       "_view_count": null,
       "_view_module": "@jupyter-widgets/base",
       "_view_module_version": "1.2.0",
       "_view_name": "LayoutView",
       "align_content": null,
       "align_items": null,
       "align_self": null,
       "border": null,
       "bottom": null,
       "display": null,
       "flex": null,
       "flex_flow": null,
       "grid_area": null,
       "grid_auto_columns": null,
       "grid_auto_flow": null,
       "grid_auto_rows": null,
       "grid_column": null,
       "grid_gap": null,
       "grid_row": null,
       "grid_template_areas": null,
       "grid_template_columns": null,
       "grid_template_rows": null,
       "height": null,
       "justify_content": null,
       "justify_items": null,
       "left": null,
       "margin": null,
       "max_height": null,
       "max_width": null,
       "min_height": null,
       "min_width": null,
       "object_fit": null,
       "object_position": null,
       "order": null,
       "overflow": null,
       "overflow_x": null,
       "overflow_y": null,
       "padding": null,
       "right": null,
       "top": null,
       "visibility": null,
       "width": null
      }
     },
     "86d6ae4ad38441c8b9a9330b9665dae3": {
      "model_module": "@jupyter-widgets/base",
      "model_module_version": "1.2.0",
      "model_name": "LayoutModel",
      "state": {
       "_model_module": "@jupyter-widgets/base",
       "_model_module_version": "1.2.0",
       "_model_name": "LayoutModel",
       "_view_count": null,
       "_view_module": "@jupyter-widgets/base",
       "_view_module_version": "1.2.0",
       "_view_name": "LayoutView",
       "align_content": null,
       "align_items": null,
       "align_self": null,
       "border": null,
       "bottom": null,
       "display": null,
       "flex": null,
       "flex_flow": null,
       "grid_area": null,
       "grid_auto_columns": null,
       "grid_auto_flow": null,
       "grid_auto_rows": null,
       "grid_column": null,
       "grid_gap": null,
       "grid_row": null,
       "grid_template_areas": null,
       "grid_template_columns": null,
       "grid_template_rows": null,
       "height": null,
       "justify_content": null,
       "justify_items": null,
       "left": null,
       "margin": null,
       "max_height": null,
       "max_width": null,
       "min_height": null,
       "min_width": null,
       "object_fit": null,
       "object_position": null,
       "order": null,
       "overflow": null,
       "overflow_x": null,
       "overflow_y": null,
       "padding": null,
       "right": null,
       "top": null,
       "visibility": null,
       "width": null
      }
     },
     "8888dd33984047828f6c8beaf1c315d8": {
      "model_module": "@jupyter-widgets/controls",
      "model_module_version": "1.5.0",
      "model_name": "ProgressStyleModel",
      "state": {
       "_model_module": "@jupyter-widgets/controls",
       "_model_module_version": "1.5.0",
       "_model_name": "ProgressStyleModel",
       "_view_count": null,
       "_view_module": "@jupyter-widgets/base",
       "_view_module_version": "1.2.0",
       "_view_name": "StyleView",
       "bar_color": null,
       "description_width": ""
      }
     },
     "9a8e163bf8444a08a102df044b396e19": {
      "model_module": "@jupyter-widgets/controls",
      "model_module_version": "1.5.0",
      "model_name": "HBoxModel",
      "state": {
       "_dom_classes": [],
       "_model_module": "@jupyter-widgets/controls",
       "_model_module_version": "1.5.0",
       "_model_name": "HBoxModel",
       "_view_count": null,
       "_view_module": "@jupyter-widgets/controls",
       "_view_module_version": "1.5.0",
       "_view_name": "HBoxView",
       "box_style": "",
       "children": [
        "IPY_MODEL_f83b80dc401b4837a8584f2fe921721b",
        "IPY_MODEL_637cab0a17fd4da2976eaaf801d40192",
        "IPY_MODEL_a78accc9a0d444e7bb11edbc069796c4"
       ],
       "layout": "IPY_MODEL_86d6ae4ad38441c8b9a9330b9665dae3"
      }
     },
     "a030362f6e054fdab42fb17f5e5d1ec9": {
      "model_module": "@jupyter-widgets/controls",
      "model_module_version": "1.5.0",
      "model_name": "DescriptionStyleModel",
      "state": {
       "_model_module": "@jupyter-widgets/controls",
       "_model_module_version": "1.5.0",
       "_model_name": "DescriptionStyleModel",
       "_view_count": null,
       "_view_module": "@jupyter-widgets/base",
       "_view_module_version": "1.2.0",
       "_view_name": "StyleView",
       "description_width": ""
      }
     },
     "a191540d606841cf86ef40d9b5787380": {
      "model_module": "@jupyter-widgets/base",
      "model_module_version": "1.2.0",
      "model_name": "LayoutModel",
      "state": {
       "_model_module": "@jupyter-widgets/base",
       "_model_module_version": "1.2.0",
       "_model_name": "LayoutModel",
       "_view_count": null,
       "_view_module": "@jupyter-widgets/base",
       "_view_module_version": "1.2.0",
       "_view_name": "LayoutView",
       "align_content": null,
       "align_items": null,
       "align_self": null,
       "border": null,
       "bottom": null,
       "display": null,
       "flex": null,
       "flex_flow": null,
       "grid_area": null,
       "grid_auto_columns": null,
       "grid_auto_flow": null,
       "grid_auto_rows": null,
       "grid_column": null,
       "grid_gap": null,
       "grid_row": null,
       "grid_template_areas": null,
       "grid_template_columns": null,
       "grid_template_rows": null,
       "height": null,
       "justify_content": null,
       "justify_items": null,
       "left": null,
       "margin": null,
       "max_height": null,
       "max_width": null,
       "min_height": null,
       "min_width": null,
       "object_fit": null,
       "object_position": null,
       "order": null,
       "overflow": null,
       "overflow_x": null,
       "overflow_y": null,
       "padding": null,
       "right": null,
       "top": null,
       "visibility": null,
       "width": null
      }
     },
     "a5798f690c5d4074a8fd1e99e8db6cab": {
      "model_module": "@jupyter-widgets/controls",
      "model_module_version": "1.5.0",
      "model_name": "HBoxModel",
      "state": {
       "_dom_classes": [],
       "_model_module": "@jupyter-widgets/controls",
       "_model_module_version": "1.5.0",
       "_model_name": "HBoxModel",
       "_view_count": null,
       "_view_module": "@jupyter-widgets/controls",
       "_view_module_version": "1.5.0",
       "_view_name": "HBoxView",
       "box_style": "",
       "children": [
        "IPY_MODEL_d244a68b8446420ba1ec1dcac0e7406b",
        "IPY_MODEL_ea613277477b4608add84d0a9ef026c7",
        "IPY_MODEL_5c1aec7b42594115bee973a089e7f172"
       ],
       "layout": "IPY_MODEL_3aa3a29592a54411ad98355b614473d8"
      }
     },
     "a78accc9a0d444e7bb11edbc069796c4": {
      "model_module": "@jupyter-widgets/controls",
      "model_module_version": "1.5.0",
      "model_name": "HTMLModel",
      "state": {
       "_dom_classes": [],
       "_model_module": "@jupyter-widgets/controls",
       "_model_module_version": "1.5.0",
       "_model_name": "HTMLModel",
       "_view_count": null,
       "_view_module": "@jupyter-widgets/controls",
       "_view_module_version": "1.5.0",
       "_view_name": "HTMLView",
       "description": "",
       "description_tooltip": null,
       "layout": "IPY_MODEL_a191540d606841cf86ef40d9b5787380",
       "placeholder": "​",
       "style": "IPY_MODEL_4b0848d3411c45279a2091a4e9c3d322",
       "value": " 7537/7537 [00:02&lt;00:00, 3133.96it/s]"
      }
     },
     "a9e6236fd696425bb16763b88b82e019": {
      "model_module": "@jupyter-widgets/base",
      "model_module_version": "1.2.0",
      "model_name": "LayoutModel",
      "state": {
       "_model_module": "@jupyter-widgets/base",
       "_model_module_version": "1.2.0",
       "_model_name": "LayoutModel",
       "_view_count": null,
       "_view_module": "@jupyter-widgets/base",
       "_view_module_version": "1.2.0",
       "_view_name": "LayoutView",
       "align_content": null,
       "align_items": null,
       "align_self": null,
       "border": null,
       "bottom": null,
       "display": null,
       "flex": null,
       "flex_flow": null,
       "grid_area": null,
       "grid_auto_columns": null,
       "grid_auto_flow": null,
       "grid_auto_rows": null,
       "grid_column": null,
       "grid_gap": null,
       "grid_row": null,
       "grid_template_areas": null,
       "grid_template_columns": null,
       "grid_template_rows": null,
       "height": null,
       "justify_content": null,
       "justify_items": null,
       "left": null,
       "margin": null,
       "max_height": null,
       "max_width": null,
       "min_height": null,
       "min_width": null,
       "object_fit": null,
       "object_position": null,
       "order": null,
       "overflow": null,
       "overflow_x": null,
       "overflow_y": null,
       "padding": null,
       "right": null,
       "top": null,
       "visibility": null,
       "width": null
      }
     },
     "abb7e6ceaf8e44b7b669288978566adb": {
      "model_module": "@jupyter-widgets/base",
      "model_module_version": "1.2.0",
      "model_name": "LayoutModel",
      "state": {
       "_model_module": "@jupyter-widgets/base",
       "_model_module_version": "1.2.0",
       "_model_name": "LayoutModel",
       "_view_count": null,
       "_view_module": "@jupyter-widgets/base",
       "_view_module_version": "1.2.0",
       "_view_name": "LayoutView",
       "align_content": null,
       "align_items": null,
       "align_self": null,
       "border": null,
       "bottom": null,
       "display": null,
       "flex": null,
       "flex_flow": null,
       "grid_area": null,
       "grid_auto_columns": null,
       "grid_auto_flow": null,
       "grid_auto_rows": null,
       "grid_column": null,
       "grid_gap": null,
       "grid_row": null,
       "grid_template_areas": null,
       "grid_template_columns": null,
       "grid_template_rows": null,
       "height": null,
       "justify_content": null,
       "justify_items": null,
       "left": null,
       "margin": null,
       "max_height": null,
       "max_width": null,
       "min_height": null,
       "min_width": null,
       "object_fit": null,
       "object_position": null,
       "order": null,
       "overflow": null,
       "overflow_x": null,
       "overflow_y": null,
       "padding": null,
       "right": null,
       "top": null,
       "visibility": null,
       "width": null
      }
     },
     "bfef895a544145349dfb940a5774e723": {
      "model_module": "@jupyter-widgets/controls",
      "model_module_version": "1.5.0",
      "model_name": "HBoxModel",
      "state": {
       "_dom_classes": [],
       "_model_module": "@jupyter-widgets/controls",
       "_model_module_version": "1.5.0",
       "_model_name": "HBoxModel",
       "_view_count": null,
       "_view_module": "@jupyter-widgets/controls",
       "_view_module_version": "1.5.0",
       "_view_name": "HBoxView",
       "box_style": "",
       "children": [
        "IPY_MODEL_0153e4e76ef447669e050ec51adb5b98",
        "IPY_MODEL_e78a562abf80408caaa8d2070987804d",
        "IPY_MODEL_e1da5bc770564cb8b25c2e1335db9cec"
       ],
       "layout": "IPY_MODEL_abb7e6ceaf8e44b7b669288978566adb"
      }
     },
     "ca86f9fd89e644438b6650473d1d9336": {
      "model_module": "@jupyter-widgets/base",
      "model_module_version": "1.2.0",
      "model_name": "LayoutModel",
      "state": {
       "_model_module": "@jupyter-widgets/base",
       "_model_module_version": "1.2.0",
       "_model_name": "LayoutModel",
       "_view_count": null,
       "_view_module": "@jupyter-widgets/base",
       "_view_module_version": "1.2.0",
       "_view_name": "LayoutView",
       "align_content": null,
       "align_items": null,
       "align_self": null,
       "border": null,
       "bottom": null,
       "display": null,
       "flex": null,
       "flex_flow": null,
       "grid_area": null,
       "grid_auto_columns": null,
       "grid_auto_flow": null,
       "grid_auto_rows": null,
       "grid_column": null,
       "grid_gap": null,
       "grid_row": null,
       "grid_template_areas": null,
       "grid_template_columns": null,
       "grid_template_rows": null,
       "height": null,
       "justify_content": null,
       "justify_items": null,
       "left": null,
       "margin": null,
       "max_height": null,
       "max_width": null,
       "min_height": null,
       "min_width": null,
       "object_fit": null,
       "object_position": null,
       "order": null,
       "overflow": null,
       "overflow_x": null,
       "overflow_y": null,
       "padding": null,
       "right": null,
       "top": null,
       "visibility": null,
       "width": null
      }
     },
     "d244a68b8446420ba1ec1dcac0e7406b": {
      "model_module": "@jupyter-widgets/controls",
      "model_module_version": "1.5.0",
      "model_name": "HTMLModel",
      "state": {
       "_dom_classes": [],
       "_model_module": "@jupyter-widgets/controls",
       "_model_module_version": "1.5.0",
       "_model_name": "HTMLModel",
       "_view_count": null,
       "_view_module": "@jupyter-widgets/controls",
       "_view_module_version": "1.5.0",
       "_view_name": "HTMLView",
       "description": "",
       "description_tooltip": null,
       "layout": "IPY_MODEL_ca86f9fd89e644438b6650473d1d9336",
       "placeholder": "​",
       "style": "IPY_MODEL_502f48f33b28485ebff502d488239517",
       "value": "Predicting. : 100%"
      }
     },
     "e1da5bc770564cb8b25c2e1335db9cec": {
      "model_module": "@jupyter-widgets/controls",
      "model_module_version": "1.5.0",
      "model_name": "HTMLModel",
      "state": {
       "_dom_classes": [],
       "_model_module": "@jupyter-widgets/controls",
       "_model_module_version": "1.5.0",
       "_model_name": "HTMLModel",
       "_view_count": null,
       "_view_module": "@jupyter-widgets/controls",
       "_view_module_version": "1.5.0",
       "_view_name": "HTMLView",
       "description": "",
       "description_tooltip": null,
       "layout": "IPY_MODEL_1a4e587ef05747c2ad5885610ddc1509",
       "placeholder": "​",
       "style": "IPY_MODEL_2caca2db74874a839c96b40628f7e399",
       "value": " 472/472 [00:11&lt;00:00, 40.57it/s]"
      }
     },
     "e78a562abf80408caaa8d2070987804d": {
      "model_module": "@jupyter-widgets/controls",
      "model_module_version": "1.5.0",
      "model_name": "FloatProgressModel",
      "state": {
       "_dom_classes": [],
       "_model_module": "@jupyter-widgets/controls",
       "_model_module_version": "1.5.0",
       "_model_name": "FloatProgressModel",
       "_view_count": null,
       "_view_module": "@jupyter-widgets/controls",
       "_view_module_version": "1.5.0",
       "_view_name": "ProgressView",
       "bar_style": "success",
       "description": "",
       "description_tooltip": null,
       "layout": "IPY_MODEL_8026638169b24a07a648c11fe14a2e3b",
       "max": 472,
       "min": 0,
       "orientation": "horizontal",
       "style": "IPY_MODEL_8888dd33984047828f6c8beaf1c315d8",
       "value": 472
      }
     },
     "ea613277477b4608add84d0a9ef026c7": {
      "model_module": "@jupyter-widgets/controls",
      "model_module_version": "1.5.0",
      "model_name": "FloatProgressModel",
      "state": {
       "_dom_classes": [],
       "_model_module": "@jupyter-widgets/controls",
       "_model_module_version": "1.5.0",
       "_model_name": "FloatProgressModel",
       "_view_count": null,
       "_view_module": "@jupyter-widgets/controls",
       "_view_module_version": "1.5.0",
       "_view_name": "ProgressView",
       "bar_style": "success",
       "description": "",
       "description_tooltip": null,
       "layout": "IPY_MODEL_1e72a0f723794ce4aee84b7576d6a77f",
       "max": 472,
       "min": 0,
       "orientation": "horizontal",
       "style": "IPY_MODEL_092e6f34a25e4e079bb3e12da332871e",
       "value": 472
      }
     },
     "f83b80dc401b4837a8584f2fe921721b": {
      "model_module": "@jupyter-widgets/controls",
      "model_module_version": "1.5.0",
      "model_name": "HTMLModel",
      "state": {
       "_dom_classes": [],
       "_model_module": "@jupyter-widgets/controls",
       "_model_module_version": "1.5.0",
       "_model_name": "HTMLModel",
       "_view_count": null,
       "_view_module": "@jupyter-widgets/controls",
       "_view_module_version": "1.5.0",
       "_view_name": "HTMLView",
       "description": "",
       "description_tooltip": null,
       "layout": "IPY_MODEL_a9e6236fd696425bb16763b88b82e019",
       "placeholder": "​",
       "style": "IPY_MODEL_348fea61a3cb4a00971d91d7f0d15d03",
       "value": "100%"
      }
     }
    },
    "version_major": 2,
    "version_minor": 0
   }
  }
 },
 "nbformat": 4,
 "nbformat_minor": 5
}
